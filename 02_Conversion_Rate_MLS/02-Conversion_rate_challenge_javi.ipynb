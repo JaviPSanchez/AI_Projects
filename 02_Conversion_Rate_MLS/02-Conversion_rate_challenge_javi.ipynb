{
 "cells": [
  {
   "cell_type": "markdown",
   "metadata": {},
   "source": [
    "<img src=\"data:image/png;base64,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\" alt=\"DSW LOGO\" />"
   ]
  },
  {
   "cell_type": "markdown",
   "metadata": {
    "colab_type": "text",
    "id": "0eiKSLYG8XvO"
   },
   "source": [
    "# Challenge : predict conversions 🏆🏆\n",
    "\n",
    "This is the template that shows the different steps of the challenge. In this notebook, all the training/predictions steps are implemented for a very basic model (logistic regression with only one variable). Please use this template and feel free to change the preprocessing/training steps to get the model with the best f1-score ! May the force be with you 🧨🧨  \n",
    "\n",
    "**For a detailed description of this project, please refer to *02-Conversion_rate_challenge.ipynb*.**"
   ]
  },
  {
   "cell_type": "markdown",
   "metadata": {},
   "source": [
    " ## IMPORT MODULES"
   ]
  },
  {
   "cell_type": "code",
   "execution_count": 3,
   "metadata": {
    "colab": {},
    "colab_type": "code",
    "id": "AGhdl7Bt2xZd"
   },
   "outputs": [],
   "source": [
    "import pandas as pd\n",
    "import numpy as np\n",
    "\n",
    "from sklearn.model_selection import train_test_split\n",
    "from sklearn.pipeline import Pipeline\n",
    "from sklearn.impute import SimpleImputer\n",
    "from sklearn.preprocessing import OneHotEncoder, StandardScaler, LabelEncoder\n",
    "from sklearn.compose import ColumnTransformer\n",
    "from sklearn.linear_model import LogisticRegression\n",
    "from sklearn.linear_model import LinearRegression\n",
    "from sklearn.metrics import f1_score, confusion_matrix, accuracy_score, r2_score\n",
    "from sklearn.feature_selection import f_regression\n",
    "\n",
    "import matplotlib.pyplot as plt\n",
    "import plotly.express as px\n",
    "import plotly.graph_objects as go\n",
    "import plotly.io as pio\n",
    "# setting Jedha color palette as default\n",
    "pio.templates[\"jedha\"] = go.layout.Template(\n",
    "    layout_colorway=[\"#4B9AC7\", \"#4BE8E0\", \"#9DD4F3\", \"#97FBF6\", \"#2A7FAF\", \"#23B1AB\", \"#0E3449\", \"#015955\"]\n",
    ")\n",
    "pio.templates.default = \"jedha\"\n",
    "pio.renderers.default = \"svg\" # to be replaced by \"iframe\" if working on JULIE\n",
    "from IPython.display import display"
   ]
  },
  {
   "cell_type": "markdown",
   "metadata": {
    "colab_type": "text",
    "id": "LHgro65rxKF7"
   },
   "source": [
    " ## MODEL IMPORTING (DATASET WITH LABELS)"
   ]
  },
  {
   "cell_type": "code",
   "execution_count": 4,
   "metadata": {},
   "outputs": [],
   "source": [
    "# File without labels\n",
    "# data2 = pd.read_csv('conversion_data_test.csv')\n",
    "# data2.head()"
   ]
  },
  {
   "cell_type": "code",
   "execution_count": 5,
   "metadata": {
    "colab": {
     "base_uri": "https://localhost:8080/",
     "height": 34
    },
    "colab_type": "code",
    "id": "W1AU8AH8u0qd",
    "outputId": "00698a97-027b-493b-a2e4-33fdcc295abb"
   },
   "outputs": [
    {
     "name": "stdout",
     "output_type": "stream",
     "text": [
      "Set with labels (our train+test) : (284580, 6)\n"
     ]
    }
   ],
   "source": [
    "data = pd.read_csv('conversion_data_train.csv')\n",
    "print('Set with labels (our train+test) :', data.shape)"
   ]
  },
  {
   "cell_type": "code",
   "execution_count": 6,
   "metadata": {},
   "outputs": [
    {
     "data": {
      "text/html": [
       "<div>\n",
       "<style scoped>\n",
       "    .dataframe tbody tr th:only-of-type {\n",
       "        vertical-align: middle;\n",
       "    }\n",
       "\n",
       "    .dataframe tbody tr th {\n",
       "        vertical-align: top;\n",
       "    }\n",
       "\n",
       "    .dataframe thead th {\n",
       "        text-align: right;\n",
       "    }\n",
       "</style>\n",
       "<table border=\"1\" class=\"dataframe\">\n",
       "  <thead>\n",
       "    <tr style=\"text-align: right;\">\n",
       "      <th></th>\n",
       "      <th>country</th>\n",
       "      <th>age</th>\n",
       "      <th>new_user</th>\n",
       "      <th>source</th>\n",
       "      <th>total_pages_visited</th>\n",
       "      <th>converted</th>\n",
       "    </tr>\n",
       "  </thead>\n",
       "  <tbody>\n",
       "    <tr>\n",
       "      <th>0</th>\n",
       "      <td>China</td>\n",
       "      <td>22</td>\n",
       "      <td>1</td>\n",
       "      <td>Direct</td>\n",
       "      <td>2</td>\n",
       "      <td>0</td>\n",
       "    </tr>\n",
       "    <tr>\n",
       "      <th>1</th>\n",
       "      <td>UK</td>\n",
       "      <td>21</td>\n",
       "      <td>1</td>\n",
       "      <td>Ads</td>\n",
       "      <td>3</td>\n",
       "      <td>0</td>\n",
       "    </tr>\n",
       "  </tbody>\n",
       "</table>\n",
       "</div>"
      ],
      "text/plain": [
       "  country  age  new_user  source  total_pages_visited  converted\n",
       "0   China   22         1  Direct                    2          0\n",
       "1      UK   21         1     Ads                    3          0"
      ]
     },
     "execution_count": 6,
     "metadata": {},
     "output_type": "execute_result"
    }
   ],
   "source": [
    "data.head(2)"
   ]
  },
  {
   "cell_type": "markdown",
   "metadata": {
    "colab_type": "text",
    "id": "0XwjKBc63B1n"
   },
   "source": [
    "## EXPLORING DATASET"
   ]
  },
  {
   "cell_type": "code",
   "execution_count": 7,
   "metadata": {
    "colab": {},
    "colab_type": "code",
    "id": "NM0feCss5sLZ"
   },
   "outputs": [],
   "source": [
    "# The dataset is quite big : you must create a sample of the dataset before making any visualizations !\n",
    "data_sample = data.sample(10000)"
   ]
  },
  {
   "cell_type": "code",
   "execution_count": 8,
   "metadata": {},
   "outputs": [
    {
     "data": {
      "text/plain": [
       "['country', 'age', 'new_user', 'source', 'total_pages_visited', 'converted']"
      ]
     },
     "metadata": {},
     "output_type": "display_data"
    },
    {
     "data": {
      "text/html": [
       "<div>\n",
       "<style scoped>\n",
       "    .dataframe tbody tr th:only-of-type {\n",
       "        vertical-align: middle;\n",
       "    }\n",
       "\n",
       "    .dataframe tbody tr th {\n",
       "        vertical-align: top;\n",
       "    }\n",
       "\n",
       "    .dataframe thead th {\n",
       "        text-align: right;\n",
       "    }\n",
       "</style>\n",
       "<table border=\"1\" class=\"dataframe\">\n",
       "  <thead>\n",
       "    <tr style=\"text-align: right;\">\n",
       "      <th></th>\n",
       "      <th>is_null_value</th>\n",
       "      <th>count_values</th>\n",
       "      <th>type</th>\n",
       "      <th>mean</th>\n",
       "      <th>max</th>\n",
       "      <th>min</th>\n",
       "    </tr>\n",
       "  </thead>\n",
       "  <tbody>\n",
       "    <tr>\n",
       "      <th>age</th>\n",
       "      <td>False</td>\n",
       "      <td>284580</td>\n",
       "      <td>int64</td>\n",
       "      <td>30.564203</td>\n",
       "      <td>123</td>\n",
       "      <td>17</td>\n",
       "    </tr>\n",
       "    <tr>\n",
       "      <th>converted</th>\n",
       "      <td>False</td>\n",
       "      <td>284580</td>\n",
       "      <td>int64</td>\n",
       "      <td>0.032258</td>\n",
       "      <td>1</td>\n",
       "      <td>0</td>\n",
       "    </tr>\n",
       "    <tr>\n",
       "      <th>country</th>\n",
       "      <td>False</td>\n",
       "      <td>284580</td>\n",
       "      <td>object</td>\n",
       "      <td>NaN</td>\n",
       "      <td>US</td>\n",
       "      <td>China</td>\n",
       "    </tr>\n",
       "    <tr>\n",
       "      <th>new_user</th>\n",
       "      <td>False</td>\n",
       "      <td>284580</td>\n",
       "      <td>int64</td>\n",
       "      <td>0.685452</td>\n",
       "      <td>1</td>\n",
       "      <td>0</td>\n",
       "    </tr>\n",
       "    <tr>\n",
       "      <th>source</th>\n",
       "      <td>False</td>\n",
       "      <td>284580</td>\n",
       "      <td>object</td>\n",
       "      <td>NaN</td>\n",
       "      <td>Seo</td>\n",
       "      <td>Ads</td>\n",
       "    </tr>\n",
       "    <tr>\n",
       "      <th>total_pages_visited</th>\n",
       "      <td>False</td>\n",
       "      <td>284580</td>\n",
       "      <td>int64</td>\n",
       "      <td>4.873252</td>\n",
       "      <td>29</td>\n",
       "      <td>1</td>\n",
       "    </tr>\n",
       "  </tbody>\n",
       "</table>\n",
       "</div>"
      ],
      "text/plain": [
       "                     is_null_value  count_values    type       mean  max  \\\n",
       "age                          False        284580   int64  30.564203  123   \n",
       "converted                    False        284580   int64   0.032258    1   \n",
       "country                      False        284580  object        NaN   US   \n",
       "new_user                     False        284580   int64   0.685452    1   \n",
       "source                       False        284580  object        NaN  Seo   \n",
       "total_pages_visited          False        284580   int64   4.873252   29   \n",
       "\n",
       "                       min  \n",
       "age                     17  \n",
       "converted                0  \n",
       "country              China  \n",
       "new_user                 0  \n",
       "source                 Ads  \n",
       "total_pages_visited      1  "
      ]
     },
     "execution_count": 8,
     "metadata": {},
     "output_type": "execute_result"
    }
   ],
   "source": [
    "display([col for col in data.columns])\n",
    "summary_table = pd.DataFrame({\n",
    "    'is_null_value': data.isnull().any(),\n",
    "    # 'sum_null_value': data.isnull().sum(),\n",
    "    # 'proporcion_null_value': (data.isnull().sum()/data.shape[0])*100,\n",
    "    'count_values': data.count(),\n",
    "    # 'unique': {print(f'{len(data.groupby(col).Name.nunique())}') for col in data},\n",
    "    'type': data.dtypes,\n",
    "    'mean': data.mean(),\n",
    "    'max': data.max(),\n",
    "    'min': data.min(),\n",
    "})\n",
    "summary_table"
   ]
  },
  {
   "cell_type": "code",
   "execution_count": 9,
   "metadata": {},
   "outputs": [
    {
     "data": {
      "image/svg+xml": "<svg class=\"main-svg\" xmlns=\"http://www.w3.org/2000/svg\" xmlns:xlink=\"http://www.w3.org/1999/xlink\" width=\"700\" height=\"450\" style=\"\" viewBox=\"0 0 700 450\"><rect x=\"0\" y=\"0\" width=\"700\" height=\"450\" style=\"fill: rgb(255, 255, 255); fill-opacity: 1;\"/><defs id=\"defs-0b1e9b\"><g class=\"clips\"><clipPath id=\"clip0b1e9bxyplot\" class=\"plotclip\"><rect width=\"540\" height=\"310\"/></clipPath><clipPath class=\"axesclip\" id=\"clip0b1e9bx\"><rect x=\"80\" y=\"0\" width=\"540\" height=\"450\"/></clipPath><clipPath class=\"axesclip\" id=\"clip0b1e9by\"><rect x=\"0\" y=\"60\" width=\"700\" height=\"310\"/></clipPath><clipPath class=\"axesclip\" id=\"clip0b1e9bxy\"><rect x=\"80\" y=\"60\" width=\"540\" height=\"310\"/></clipPath></g><g class=\"gradients\"/></defs><g class=\"bglayer\"/><g class=\"layer-below\"><g class=\"imagelayer\"/><g class=\"shapelayer\"/></g><g class=\"cartesianlayer\"><g class=\"subplot xy\"><g class=\"layer-subplot\"><g class=\"shapelayer\"/><g class=\"imagelayer\"/></g><g class=\"gridlayer\"><g class=\"x\"><path class=\"xgrid crisp\" transform=\"translate(190.5,0)\" d=\"M0,60v310\" style=\"stroke: rgb(238, 238, 238); stroke-opacity: 1; stroke-width: 1px;\"/><path class=\"xgrid crisp\" transform=\"translate(290.19,0)\" d=\"M0,60v310\" style=\"stroke: rgb(238, 238, 238); stroke-opacity: 1; stroke-width: 1px;\"/><path class=\"xgrid crisp\" transform=\"translate(389.88,0)\" d=\"M0,60v310\" style=\"stroke: rgb(238, 238, 238); stroke-opacity: 1; stroke-width: 1px;\"/><path class=\"xgrid crisp\" transform=\"translate(489.56,0)\" d=\"M0,60v310\" style=\"stroke: rgb(238, 238, 238); stroke-opacity: 1; stroke-width: 1px;\"/><path class=\"xgrid crisp\" transform=\"translate(589.25,0)\" d=\"M0,60v310\" style=\"stroke: rgb(238, 238, 238); stroke-opacity: 1; stroke-width: 1px;\"/></g><g class=\"y\"><path class=\"ygrid crisp\" transform=\"translate(0,334.46)\" d=\"M80,0h540\" style=\"stroke: rgb(238, 238, 238); stroke-opacity: 1; stroke-width: 1px;\"/><path class=\"ygrid crisp\" transform=\"translate(0,280.15999999999997)\" d=\"M80,0h540\" style=\"stroke: rgb(238, 238, 238); stroke-opacity: 1; stroke-width: 1px;\"/><path class=\"ygrid crisp\" transform=\"translate(0,225.86)\" d=\"M80,0h540\" style=\"stroke: rgb(238, 238, 238); stroke-opacity: 1; stroke-width: 1px;\"/><path class=\"ygrid crisp\" transform=\"translate(0,171.56)\" d=\"M80,0h540\" style=\"stroke: rgb(238, 238, 238); stroke-opacity: 1; stroke-width: 1px;\"/><path class=\"ygrid crisp\" transform=\"translate(0,117.25999999999999)\" d=\"M80,0h540\" style=\"stroke: rgb(238, 238, 238); stroke-opacity: 1; stroke-width: 1px;\"/><path class=\"ygrid crisp\" transform=\"translate(0,62.96)\" d=\"M80,0h540\" style=\"stroke: rgb(238, 238, 238); stroke-opacity: 1; stroke-width: 1px;\"/></g></g><g class=\"zerolinelayer\"><path class=\"xzl zl crisp\" transform=\"translate(90.81,0)\" d=\"M0,60v310\" style=\"stroke: rgb(68, 68, 68); stroke-opacity: 1; stroke-width: 1px;\"/></g><path class=\"xlines-below\"/><path class=\"ylines-below\"/><g class=\"overlines-below\"/><g class=\"xaxislayer-below\"/><g class=\"yaxislayer-below\"/><g class=\"overaxes-below\"/><g class=\"plot\" transform=\"translate(80, 60)\" clip-path=\"url('#clip0b1e9bxyplot')\"/><g class=\"overplot\"/><path class=\"xlines-above crisp\" d=\"M0,0\" style=\"fill: none;\"/><path class=\"ylines-above crisp\" d=\"M0,0\" style=\"fill: none;\"/><g class=\"overlines-above\"/><g class=\"xaxislayer-above\"><g class=\"xtick\"><text text-anchor=\"middle\" x=\"0\" y=\"383\" transform=\"translate(90.81,0)\" style=\"font-family: 'Open Sans', verdana, arial, sans-serif; font-size: 12px; fill: rgb(68, 68, 68); fill-opacity: 1; white-space: pre;\">0</text></g><g class=\"xtick\"><text text-anchor=\"middle\" x=\"0\" y=\"383\" transform=\"translate(190.5,0)\" style=\"font-family: 'Open Sans', verdana, arial, sans-serif; font-size: 12px; fill: rgb(68, 68, 68); fill-opacity: 1; white-space: pre;\">5</text></g><g class=\"xtick\"><text text-anchor=\"middle\" x=\"0\" y=\"383\" transform=\"translate(290.19,0)\" style=\"font-family: 'Open Sans', verdana, arial, sans-serif; font-size: 12px; fill: rgb(68, 68, 68); fill-opacity: 1; white-space: pre;\">10</text></g><g class=\"xtick\"><text text-anchor=\"middle\" x=\"0\" y=\"383\" transform=\"translate(389.88,0)\" style=\"font-family: 'Open Sans', verdana, arial, sans-serif; font-size: 12px; fill: rgb(68, 68, 68); fill-opacity: 1; white-space: pre;\">15</text></g><g class=\"xtick\"><text text-anchor=\"middle\" x=\"0\" y=\"383\" transform=\"translate(489.56,0)\" style=\"font-family: 'Open Sans', verdana, arial, sans-serif; font-size: 12px; fill: rgb(68, 68, 68); fill-opacity: 1; white-space: pre;\">20</text></g><g class=\"xtick\"><text text-anchor=\"middle\" x=\"0\" y=\"383\" transform=\"translate(589.25,0)\" style=\"font-family: 'Open Sans', verdana, arial, sans-serif; font-size: 12px; fill: rgb(68, 68, 68); fill-opacity: 1; white-space: pre;\">25</text></g></g><g class=\"yaxislayer-above\"><g class=\"ytick\"><text text-anchor=\"end\" x=\"79\" y=\"4.199999999999999\" transform=\"translate(0,334.46)\" style=\"font-family: 'Open Sans', verdana, arial, sans-serif; font-size: 12px; fill: rgb(68, 68, 68); fill-opacity: 1; white-space: pre;\">20</text></g><g class=\"ytick\"><text text-anchor=\"end\" x=\"79\" y=\"4.199999999999999\" transform=\"translate(0,280.15999999999997)\" style=\"font-family: 'Open Sans', verdana, arial, sans-serif; font-size: 12px; fill: rgb(68, 68, 68); fill-opacity: 1; white-space: pre;\">30</text></g><g class=\"ytick\"><text text-anchor=\"end\" x=\"79\" y=\"4.199999999999999\" transform=\"translate(0,225.86)\" style=\"font-family: 'Open Sans', verdana, arial, sans-serif; font-size: 12px; fill: rgb(68, 68, 68); fill-opacity: 1; white-space: pre;\">40</text></g><g class=\"ytick\"><text text-anchor=\"end\" x=\"79\" y=\"4.199999999999999\" transform=\"translate(0,171.56)\" style=\"font-family: 'Open Sans', verdana, arial, sans-serif; font-size: 12px; fill: rgb(68, 68, 68); fill-opacity: 1; white-space: pre;\">50</text></g><g class=\"ytick\"><text text-anchor=\"end\" x=\"79\" y=\"4.199999999999999\" transform=\"translate(0,117.25999999999999)\" style=\"font-family: 'Open Sans', verdana, arial, sans-serif; font-size: 12px; fill: rgb(68, 68, 68); fill-opacity: 1; white-space: pre;\">60</text></g><g class=\"ytick\"><text text-anchor=\"end\" x=\"79\" y=\"4.199999999999999\" transform=\"translate(0,62.96)\" style=\"font-family: 'Open Sans', verdana, arial, sans-serif; font-size: 12px; fill: rgb(68, 68, 68); fill-opacity: 1; white-space: pre;\">70</text></g></g><g class=\"overaxes-above\"/></g></g><g class=\"polarlayer\"/><g class=\"ternarylayer\"/><g class=\"geolayer\"/><g class=\"funnelarealayer\"/><g class=\"pielayer\"/><g class=\"treemaplayer\"/><g class=\"sunburstlayer\"/><g class=\"glimages\"><image xmlns=\"http://www.w3.org/2000/svg\" xlink:href=\"data:image/png;base64,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\" preserveAspectRatio=\"none\" x=\"0\" y=\"0\" width=\"700\" height=\"450\"/><image xmlns=\"http://www.w3.org/2000/svg\" xlink:href=\"data:image/png;base64,iVBORw0KGgoAAAANSUhEUgAAArwAAAHCCAYAAAANehpvAAAZCUlEQVR4Xu3WQREAAAgCQelf2h43awMWH+wcAQIECBAgQIAAgbDAwtlEI0CAAAECBAgQIHAGrycgQIAAAQIECBBICxi86XqFI0CAAAECBAgQMHj9AAECBAgQIECAQFrA4E3XKxwBAgQIECBAgIDB6wcIECBAgAABAgTSAgZvul7hCBAgQIAAAQIEDF4/QIAAAQIECBAgkBYweNP1CkeAAAECBAgQIGDw+gECBAgQIECAAIG0gMGbrlc4AgQIECBAgAABg9cPECBAgAABAgQIpAUM3nS9whEgQIAAAQIECBi8foAAAQIECBAgQCAtYPCm6xWOAAECBAgQIEDA4PUDBAgQIECAAAECaQGDN12vcAQIECBAgAABAgavHyBAgAABAgQIEEgLGLzpeoUjQIAAAQIECBAweP0AAQIECBAgQIBAWsDgTdcrHAECBAgQIECAgMHrBwgQIECAAAECBNICBm+6XuEIECBAgAABAgQMXj9AgAABAgQIECCQFjB40/UKR4AAAQIECBAgYPD6AQIECBAgQIAAgbSAwZuuVzgCBAgQIECAAAGD1w8QIECAAAECBAikBQzedL3CESBAgAABAgQIGLx+gAABAgQIECBAIC1g8KbrFY4AAQIECBAgQMDg9QMECBAgQIAAAQJpAYM3Xa9wBAgQIECAAAECBq8fIECAAAECBAgQSAsYvOl6hSNAgAABAgQIEDB4/QABAgQIECBAgEBawOBN1yscAQIECBAgQICAwesHCBAgQIAAAQIE0gIGb7pe4QgQIECAAAECBAxeP0CAAAECBAgQIJAWMHjT9QpHgAABAgQIECBg8PoBAgQIECBAgACBtIDBm65XOAIECBAgQIAAAYPXDxAgQIAAAQIECKQFDN50vcIRIECAAAECBAgYvH6AAAECBAgQIEAgLWDwpusVjgABAgQIECBAwOD1AwQIECBAgAABAmkBgzddr3AECBAgQIAAAQIGrx8gQIAAAQIECBBICxi86XqFI0CAAAECBAgQMHj9AAECBAgQIECAQFrA4E3XKxwBAgQIECBAgIDB6wcIECBAgAABAgTSAgZvul7hCBAgQIAAAQIEDF4/QIAAAQIECBAgkBYweNP1CkeAAAECBAgQIGDw+gECBAgQIECAAIG0gMGbrlc4AgQIECBAgAABg9cPECBAgAABAgQIpAUM3nS9whEgQIAAAQIECBi8foAAAQIECBAgQCAtYPCm6xWOAAECBAgQIEDA4PUDBAgQIECAAAECaQGDN12vcAQIECBAgAABAgavHyBAgAABAgQIEEgLGLzpeoUjQIAAAQIECBAweP0AAQIECBAgQIBAWsDgTdcrHAECBAgQIECAgMHrBwgQIECAAAECBNICBm+6XuEIECBAgAABAgQMXj9AgAABAgQIECCQFjB40/UKR4AAAQIECBAgYPD6AQIECBAgQIAAgbSAwZuuVzgCBAgQIECAAAGD1w8QIECAAAECBAikBQzedL3CESBAgAABAgQIGLx+gAABAgQIECBAIC1g8KbrFY4AAQIECBAgQMDg9QMECBAgQIAAAQJpAYM3Xa9wBAgQIECAAAECBq8fIECAAAECBAgQSAsYvOl6hSNAgAABAgQIEDB4/QABAgQIECBAgEBawOBN1yscAQIECBAgQICAwesHCBAgQIAAAQIE0gIGb7pe4QgQIECAAAECBAxeP0CAAAECBAgQIJAWMHjT9QpHgAABAgQIECBg8PoBAgQIECBAgACBtIDBm65XOAIECBAgQIAAAYPXDxAgQIAAAQIECKQFDN50vcIRIECAAAECBAgYvH6AAAECBAgQIEAgLWDwpusVjgABAgQIECBAwOD1AwQIECBAgAABAmkBgzddr3AECBAgQIAAAQIGrx8gQIAAAQIECBBICxi86XqFI0CAAAECBAgQMHj9AAECBAgQIECAQFrA4E3XKxwBAgQIECBAgIDB6wcIECBAgAABAgTSAgZvul7hCBAgQIAAAQIEDF4/QIAAAQIECBAgkBYweNP1CkeAAAECBAgQIGDw+gECBAgQIECAAIG0gMGbrlc4AgQIECBAgAABg9cPECBAgAABAgQIpAUM3nS9whEgQIAAAQIECBi8foAAAQIECBAgQCAtYPCm6xWOAAECBAgQIEDA4PUDBAgQIECAAAECaQGDN12vcAQIECBAgAABAgavHyBAgAABAgQIEEgLGLzpeoUjQIAAAQIECBAweP0AAQIECBAgQIBAWsDgTdcrHAECBAgQIECAgMHrBwgQIECAAAECBNICBm+6XuEIECBAgAABAgQMXj9AgAABAgQIECCQFjB40/UKR4AAAQIECBAgYPD6AQIECBAgQIAAgbSAwZuuVzgCBAgQIECAAAGD1w8QIECAAAECBAikBQzedL3CESBAgAABAgQIGLx+gAABAgQIECBAIC1g8KbrFY4AAQIECBAgQMDg9QMECBAgQIAAAQJpAYM3Xa9wBAgQIECAAAECBq8fIECAAAECBAgQSAsYvOl6hSNAgAABAgQIEDB4/QABAgQIECBAgEBawOBN1yscAQIECBAgQICAwesHCBAgQIAAAQIE0gIGb7pe4QgQIECAAAECBAxeP0CAAAECBAgQIJAWMHjT9QpHgAABAgQIECBg8PoBAgQIECBAgACBtIDBm65XOAIECBAgQIAAAYPXDxAgQIAAAQIECKQFDN50vcIRIECAAAECBAgYvH6AAAECBAgQIEAgLWDwpusVjgABAgQIECBAwOD1AwQIECBAgAABAmkBgzddr3AECBAgQIAAAQIGrx8gQIAAAQIECBBICxi86XqFI0CAAAECBAgQMHj9AAECBAgQIECAQFrA4E3XKxwBAgQIECBAgIDB6wcIECBAgAABAgTSAgZvul7hCBAgQIAAAQIEDF4/QIAAAQIECBAgkBYweNP1CkeAAAECBAgQIGDw+gECBAgQIECAAIG0gMGbrlc4AgQIECBAgAABg9cPECBAgAABAgQIpAUM3nS9whEgQIAAAQIECBi8foAAAQIECBAgQCAtYPCm6xWOAAECBAgQIEDA4PUDBAgQIECAAAECaQGDN12vcAQIECBAgAABAgavHyBAgAABAgQIEEgLGLzpeoUjQIAAAQIECBAweP0AAQIECBAgQIBAWsDgTdcrHAECBAgQIECAgMHrBwgQIECAAAECBNICBm+6XuEIECBAgAABAgQMXj9AgAABAgQIECCQFjB40/UKR4AAAQIECBAgYPD6AQIECBAgQIAAgbSAwZuuVzgCBAgQIECAAAGD1w8QIECAAAECBAikBQzedL3CESBAgAABAgQIGLx+gAABAgQIECBAIC1g8KbrFY4AAQIECBAgQMDg9QMECBAgQIAAAQJpAYM3Xa9wBAgQIECAAAECBq8fIECAAAECBAgQSAsYvOl6hSNAgAABAgQIEDB4/QABAgQIECBAgEBawOBN1yscAQIECBAgQICAwesHCBAgQIAAAQIE0gIGb7pe4QgQIECAAAECBAxeP0CAAAECBAgQIJAWMHjT9QpHgAABAgQIECBg8PoBAgQIECBAgACBtIDBm65XOAIECBAgQIAAAYPXDxAgQIAAAQIECKQFDN50vcIRIECAAAECBAgYvH6AAAECBAgQIEAgLWDwpusVjgABAgQIECBAwOD1AwQIECBAgAABAmkBgzddr3AECBAgQIAAAQIGrx8gQIAAAQIECBBICxi86XqFI0CAAAECBAgQMHj9AAECBAgQIECAQFrA4E3XKxwBAgQIECBAgIDB6wcIECBAgAABAgTSAgZvul7hCBAgQIAAAQIEDF4/QIAAAQIECBAgkBYweNP1CkeAAAECBAgQIGDw+gECBAgQIECAAIG0gMGbrlc4AgQIECBAgAABg9cPECBAgAABAgQIpAUM3nS9whEgQIAAAQIECBi8foAAAQIECBAgQCAtYPCm6xWOAAECBAgQIEDA4PUDBAgQIECAAAECaQGDN12vcAQIECBAgAABAgavHyBAgAABAgQIEEgLGLzpeoUjQIAAAQIECBAweP0AAQIECBAgQIBAWsDgTdcrHAECBAgQIECAgMHrBwgQIECAAAECBNICBm+6XuEIECBAgAABAgQMXj9AgAABAgQIECCQFjB40/UKR4AAAQIECBAgYPD6AQIECBAgQIAAgbSAwZuuVzgCBAgQIECAAAGD1w8QIECAAAECBAikBQzedL3CESBAgAABAgQIGLx+gAABAgQIECBAIC1g8KbrFY4AAQIECBAgQMDg9QMECBAgQIAAAQJpAYM3Xa9wBAgQIECAAAECBq8fIECAAAECBAgQSAsYvOl6hSNAgAABAgQIEDB4/QABAgQIECBAgEBawOBN1yscAQIECBAgQICAwesHCBAgQIAAAQIE0gIGb7pe4QgQIECAAAECBAxeP0CAAAECBAgQIJAWMHjT9QpHgAABAgQIECBg8PoBAgQIECBAgACBtIDBm65XOAIECBAgQIAAAYPXDxAgQIAAAQIECKQFDN50vcIRIECAAAECBAgYvH6AAAECBAgQIEAgLWDwpusVjgABAgQIECBAwOD1AwQIECBAgAABAmkBgzddr3AECBAgQIAAAQIGrx8gQIAAAQIECBBICxi86XqFI0CAAAECBAgQMHj9AAECBAgQIECAQFrA4E3XKxwBAgQIECBAgIDB6wcIECBAgAABAgTSAgZvul7hCBAgQIAAAQIEDF4/QIAAAQIECBAgkBYweNP1CkeAAAECBAgQIGDw+gECBAgQIECAAIG0gMGbrlc4AgQIECBAgAABg9cPECBAgAABAgQIpAUM3nS9whEgQIAAAQIECBi8foAAAQIECBAgQCAtYPCm6xWOAAECBAgQIEDA4PUDBAgQIECAAAECaQGDN12vcAQIECBAgAABAgavHyBAgAABAgQIEEgLGLzpeoUjQIAAAQIECBAweP0AAQIECBAgQIBAWsDgTdcrHAECBAgQIECAgMHrBwgQIECAAAECBNICBm+6XuEIECBAgAABAgQMXj9AgAABAgQIECCQFjB40/UKR4AAAQIECBAgYPD6AQIECBAgQIAAgbSAwZuuVzgCBAgQIECAAAGD1w8QIECAAAECBAikBQzedL3CESBAgAABAgQIGLx+gAABAgQIECBAIC1g8KbrFY4AAQIECBAgQMDg9QMECBAgQIAAAQJpAYM3Xa9wBAgQIECAAAECBq8fIECAAAECBAgQSAsYvOl6hSNAgAABAgQIEDB4/QABAgQIECBAgEBawOBN1yscAQIECBAgQICAwesHCBAgQIAAAQIE0gIGb7pe4QgQIECAAAECBAxeP0CAAAECBAgQIJAWMHjT9QpHgAABAgQIECBg8PoBAgQIECBAgACBtIDBm65XOAIECBAgQIAAAYPXDxAgQIAAAQIECKQFDN50vcIRIECAAAECBAgYvH6AAAECBAgQIEAgLWDwpusVjgABAgQIECBAwOD1AwQIECBAgAABAmkBgzddr3AECBAgQIAAAQIGrx8gQIAAAQIECBBICxi86XqFI0CAAAECBAgQMHj9AAECBAgQIECAQFrA4E3XKxwBAgQIECBAgIDB6wcIECBAgAABAgTSAgZvul7hCBAgQIAAAQIEDF4/QIAAAQIECBAgkBYweNP1CkeAAAECBAgQIGDw+gECBAgQIECAAIG0gMGbrlc4AgQIECBAgAABg9cPECBAgAABAgQIpAUM3nS9whEgQIAAAQIECBi8foAAAQIECBAgQCAtYPCm6xWOAAECBAgQIEDA4PUDBAgQIECAAAECaQGDN12vcAQIECBAgAABAgavHyBAgAABAgQIEEgLGLzpeoUjQIAAAQIECBAweP0AAQIECBAgQIBAWsDgTdcrHAECBAgQIECAgMHrBwgQIECAAAECBNICBm+6XuEIECBAgAABAgQMXj9AgAABAgQIECCQFjB40/UKR4AAAQIECBAgYPD6AQIECBAgQIAAgbSAwZuuVzgCBAgQIECAAAGD1w8QIECAAAECBAikBQzedL3CESBAgAABAgQIGLx+gAABAgQIECBAIC1g8KbrFY4AAQIECBAgQMDg9QMECBAgQIAAAQJpAYM3Xa9wBAgQIECAAAECBq8fIECAAAECBAgQSAsYvOl6hSNAgAABAgQIEDB4/QABAgQIECBAgEBawOBN1yscAQIECBAgQICAwesHCBAgQIAAAQIE0gIGb7pe4QgQIECAAAECBAxeP0CAAAECBAgQIJAWMHjT9QpHgAABAgQIECBg8PoBAgQIECBAgACBtIDBm65XOAIECBAgQIAAAYPXDxAgQIAAAQIECKQFDN50vcIRIECAAAECBAgYvH6AAAECBAgQIEAgLWDwpusVjgABAgQIECBAwOD1AwQIECBAgAABAmkBgzddr3AECBAgQIAAAQIGrx8gQIAAAQIECBBICxi86XqFI0CAAAECBAgQMHj9AAECBAgQIECAQFrA4E3XKxwBAgQIECBAgIDB6wcIECBAgAABAgTSAgZvul7hCBAgQIAAAQIEDF4/QIAAAQIECBAgkBYweNP1CkeAAAECBAgQIGDw+gECBAgQIECAAIG0gMGbrlc4AgQIECBAgAABg9cPECBAgAABAgQIpAUM3nS9whEgQIAAAQIECBi8foAAAQIECBAgQCAtYPCm6xWOAAECBAgQIEDA4PUDBAgQIECAAAECaQGDN12vcAQIECBAgAABAgavHyBAgAABAgQIEEgLGLzpeoUjQIAAAQIECBAweP0AAQIECBAgQIBAWsDgTdcrHAECBAgQIECAgMHrBwgQIECAAAECBNICBm+6XuEIECBAgAABAgQMXj9AgAABAgQIECCQFjB40/UKR4AAAQIECBAgYPD6AQIECBAgQIAAgbSAwZuuVzgCBAgQIECAAAGD1w8QIECAAAECBAikBQzedL3CESBAgAABAgQIGLx+gAABAgQIECBAIC1g8KbrFY4AAQIECBAgQMDg9QMECBAgQIAAAQJpAYM3Xa9wBAgQIECAAAECBq8fIECAAAECBAgQSAsYvOl6hSNAgAABAgQIEDB4/QABAgQIECBAgEBawOBN1yscAQIECBAgQICAwesHCBAgQIAAAQIE0gIGb7pe4QgQIECAAAECBAxeP0CAAAECBAgQIJAWMHjT9QpHgAABAgQIECBg8PoBAgQIECBAgACBtIDBm65XOAIECBAgQIAAAYPXDxAgQIAAAQIECKQFDN50vcIRIECAAAECBAgYvH6AAAECBAgQIEAgLWDwpusVjgABAgQIECBAwOD1AwQIECBAgAABAmkBgzddr3AECBAgQIAAAQIGrx8gQIAAAQIECBBICxi86XqFI0CAAAECBAgQMHj9AAECBAgQIECAQFrA4E3XKxwBAgQIECBAgIDB6wcIECBAgAABAgTSAgZvul7hCBAgQIAAAQIEDF4/QIAAAQIECBAgkBYweNP1CkeAAAECBAgQIGDw+gECBAgQIECAAIG0gMGbrlc4AgQIECBAgAABg9cPECBAgAABAgQIpAUM3nS9whEgQIAAAQIECBi8foAAAQIECBAgQCAtYPCm6xWOAAECBAgQIEDA4PUDBAgQIECAAAECaQGDN12vcAQIECBAgAABAgavHyBAgAABAgQIEEgLGLzpeoUjQIAAAQIECBAweP0AAQIECBAgQIBAWsDgTdcrHAECBAgQIECAgMHrBwgQIECAAAECBNICBm+6XuEIECBAgAABAgQMXj9AgAABAgQIECCQFjB40/UKR4AAAQIECBAgYPD6AQIECBAgQIAAgbSAwZuuVzgCBAgQIECAAAGD1w8QIECAAAECBAikBQzedL3CESBAgAABAgQIGLx+gAABAgQIECBAIC1g8KbrFY4AAQIECBAgQMDg9QMECBAgQIAAAQJpAYM3Xa9wBAgQIECAAAECBq8fIECAAAECBAgQSAsYvOl6hSNAgAABAgQIEDB4/QABAgQIECBAgEBawOBN1yscAQIECBAgQICAwesHCBAgQIAAAQIE0gIGb7pe4QgQIECAAAECBAxeP0CAAAECBAgQIJAWMHjT9QpHgAABAgQIECBg8PoBAgQIECBAgACBtIDBm65XOAIECBAgQIAAAYPXDxAgQIAAAQIECKQFDN50vcIRIECAAAECBAgYvH6AAAECBAgQIEAgLWDwpusVjgABAgQIECBAwOD1AwQIECBAgAABAmkBgzddr3AECBAgQIAAAQIGrx8gQIAAAQIECBBICxi86XqFI0CAAAECBAgQMHj9AAECBAgQIECAQFrA4E3XKxwBAgQIECBAgIDB6wcIECBAgAABAgTSAgZvul7hCBAgQIAAAQIEDF4/QIAAAQIECBAgkBYweNP1CkeAAAECBAgQIGDw+gECBAgQIECAAIG0gMGbrlc4AgQIECBAgAABg9cPECBAgAABAgQIpAUM3nS9whEgQIAAAQIECBi8foAAAQIECBAgQCAtYPCm6xWOAAECBAgQIEDA4PUDBAgQIECAAAECaQGDN12vcAQIECBAgAABAg9CIAHDn1PJLgAAAABJRU5ErkJggg==\" preserveAspectRatio=\"none\" x=\"0\" y=\"0\" width=\"700\" height=\"450\"/></g><defs id=\"topdefs-0b1e9b\"><g class=\"clips\"/></defs><g class=\"layer-above\"><g class=\"imagelayer\"/><g class=\"shapelayer\"/></g><g class=\"infolayer\"><g class=\"g-gtitle\"/><g class=\"g-xtitle\"><text class=\"xtitle\" x=\"350\" y=\"422\" text-anchor=\"middle\" style=\"font-family: 'Open Sans', verdana, arial, sans-serif; font-size: 14px; fill: rgb(68, 68, 68); opacity: 1; font-weight: normal; white-space: pre;\">total_pages_visited</text></g><g class=\"g-ytitle\"><text class=\"ytitle\" transform=\"rotate(-90,42,215)\" x=\"42\" y=\"215\" text-anchor=\"middle\" style=\"font-family: 'Open Sans', verdana, arial, sans-serif; font-size: 14px; fill: rgb(68, 68, 68); opacity: 1; font-weight: normal; white-space: pre;\">age</text></g></g></svg>"
     },
     "metadata": {},
     "output_type": "display_data"
    }
   ],
   "source": [
    "px.scatter(data_sample, x = 'total_pages_visited', y = 'age')"
   ]
  },
  {
   "cell_type": "code",
   "execution_count": 10,
   "metadata": {},
   "outputs": [
    {
     "data": {
      "image/svg+xml": "<svg class=\"main-svg\" xmlns=\"http://www.w3.org/2000/svg\" xmlns:xlink=\"http://www.w3.org/1999/xlink\" width=\"700\" height=\"450\" style=\"\" viewBox=\"0 0 700 450\"><rect x=\"0\" y=\"0\" width=\"700\" height=\"450\" style=\"fill: rgb(255, 255, 255); fill-opacity: 1;\"/><defs id=\"defs-a4aa23\"><g class=\"clips\"><clipPath id=\"clipa4aa23xyplot\" class=\"plotclip\"><rect width=\"540\" height=\"310\"/></clipPath><clipPath class=\"axesclip\" id=\"clipa4aa23x\"><rect x=\"80\" y=\"0\" width=\"540\" height=\"450\"/></clipPath><clipPath class=\"axesclip\" id=\"clipa4aa23y\"><rect x=\"0\" y=\"60\" width=\"700\" height=\"310\"/></clipPath><clipPath class=\"axesclip\" id=\"clipa4aa23xy\"><rect x=\"80\" y=\"60\" width=\"540\" height=\"310\"/></clipPath></g><g class=\"gradients\"/></defs><g class=\"bglayer\"/><g class=\"layer-below\"><g class=\"imagelayer\"/><g class=\"shapelayer\"/></g><g class=\"cartesianlayer\"><g class=\"subplot xy\"><g class=\"layer-subplot\"><g class=\"shapelayer\"/><g class=\"imagelayer\"/></g><g class=\"gridlayer\"><g class=\"x\"><path class=\"xgrid crisp\" transform=\"translate(171.81,0)\" d=\"M0,60v310\" style=\"stroke: rgb(238, 238, 238); stroke-opacity: 1; stroke-width: 1px;\"/><path class=\"xgrid crisp\" transform=\"translate(263.62,0)\" d=\"M0,60v310\" style=\"stroke: rgb(238, 238, 238); stroke-opacity: 1; stroke-width: 1px;\"/><path class=\"xgrid crisp\" transform=\"translate(355.43,0)\" d=\"M0,60v310\" style=\"stroke: rgb(238, 238, 238); stroke-opacity: 1; stroke-width: 1px;\"/><path class=\"xgrid crisp\" transform=\"translate(447.24,0)\" d=\"M0,60v310\" style=\"stroke: rgb(238, 238, 238); stroke-opacity: 1; stroke-width: 1px;\"/><path class=\"xgrid crisp\" transform=\"translate(539.05,0)\" d=\"M0,60v310\" style=\"stroke: rgb(238, 238, 238); stroke-opacity: 1; stroke-width: 1px;\"/></g><g class=\"y\"/></g><g class=\"zerolinelayer\"><path class=\"xzl zl crisp\" transform=\"translate(80,0)\" d=\"M0,60v310\" style=\"stroke: rgb(68, 68, 68); stroke-opacity: 1; stroke-width: 1px;\"/></g><path class=\"xlines-below\"/><path class=\"ylines-below\"/><g class=\"overlines-below\"/><g class=\"xaxislayer-below\"/><g class=\"yaxislayer-below\"/><g class=\"overaxes-below\"/><g class=\"plot\" transform=\"translate(80, 60)\" clip-path=\"url('#clipa4aa23xyplot')\"><g class=\"barlayer mlayer\"><g class=\"trace bars\" style=\"opacity: 1;\"><g class=\"points\"><g class=\"point\"><path d=\"M0,302.25V240.25H204.83V302.25Z\" style=\"vector-effect: non-scaling-stroke; opacity: 1; stroke-width: 0px; fill: rgb(75, 154, 199); fill-opacity: 1;\"/></g><g class=\"point\"><path d=\"M0,224.75V162.75H513V224.75Z\" style=\"vector-effect: non-scaling-stroke; opacity: 1; stroke-width: 0px; fill: rgb(75, 154, 199); fill-opacity: 1;\"/></g><g class=\"point\"><path d=\"M0,147.25V85.25H142.77V147.25Z\" style=\"vector-effect: non-scaling-stroke; opacity: 1; stroke-width: 0px; fill: rgb(75, 154, 199); fill-opacity: 1;\"/></g><g class=\"point\"><path d=\"M0,69.75V7.75H36.82V69.75Z\" style=\"vector-effect: non-scaling-stroke; opacity: 1; stroke-width: 0px; fill: rgb(75, 154, 199); fill-opacity: 1;\"/></g></g></g></g></g><g class=\"overplot\"/><path class=\"xlines-above crisp\" d=\"M0,0\" style=\"fill: none;\"/><path class=\"ylines-above crisp\" d=\"M0,0\" style=\"fill: none;\"/><g class=\"overlines-above\"/><g class=\"xaxislayer-above\"><g class=\"xtick\"><text text-anchor=\"middle\" x=\"0\" y=\"383\" transform=\"translate(80,0)\" style=\"font-family: 'Open Sans', verdana, arial, sans-serif; font-size: 12px; fill: rgb(68, 68, 68); fill-opacity: 1; white-space: pre;\">0</text></g><g class=\"xtick\"><text text-anchor=\"middle\" x=\"0\" y=\"383\" transform=\"translate(171.81,0)\" style=\"font-family: 'Open Sans', verdana, arial, sans-serif; font-size: 12px; fill: rgb(68, 68, 68); fill-opacity: 1; white-space: pre;\">5k</text></g><g class=\"xtick\"><text text-anchor=\"middle\" x=\"0\" y=\"383\" transform=\"translate(263.62,0)\" style=\"font-family: 'Open Sans', verdana, arial, sans-serif; font-size: 12px; fill: rgb(68, 68, 68); fill-opacity: 1; white-space: pre;\">10k</text></g><g class=\"xtick\"><text text-anchor=\"middle\" x=\"0\" y=\"383\" transform=\"translate(355.43,0)\" style=\"font-family: 'Open Sans', verdana, arial, sans-serif; font-size: 12px; fill: rgb(68, 68, 68); fill-opacity: 1; white-space: pre;\">15k</text></g><g class=\"xtick\"><text text-anchor=\"middle\" x=\"0\" y=\"383\" transform=\"translate(447.24,0)\" style=\"font-family: 'Open Sans', verdana, arial, sans-serif; font-size: 12px; fill: rgb(68, 68, 68); fill-opacity: 1; white-space: pre;\">20k</text></g><g class=\"xtick\"><text text-anchor=\"middle\" x=\"0\" y=\"383\" transform=\"translate(539.05,0)\" style=\"font-family: 'Open Sans', verdana, arial, sans-serif; font-size: 12px; fill: rgb(68, 68, 68); fill-opacity: 1; white-space: pre;\">25k</text></g></g><g class=\"yaxislayer-above\"><g class=\"ytick\"><text text-anchor=\"end\" x=\"79\" y=\"4.199999999999999\" transform=\"translate(0,331.25)\" style=\"font-family: 'Open Sans', verdana, arial, sans-serif; font-size: 12px; fill: rgb(68, 68, 68); fill-opacity: 1; white-space: pre;\">China</text></g><g class=\"ytick\"><text text-anchor=\"end\" x=\"79\" y=\"4.199999999999999\" transform=\"translate(0,253.75)\" style=\"font-family: 'Open Sans', verdana, arial, sans-serif; font-size: 12px; fill: rgb(68, 68, 68); fill-opacity: 1; white-space: pre;\">US</text></g><g class=\"ytick\"><text text-anchor=\"end\" x=\"79\" y=\"4.199999999999999\" transform=\"translate(0,176.25)\" style=\"font-family: 'Open Sans', verdana, arial, sans-serif; font-size: 12px; fill: rgb(68, 68, 68); fill-opacity: 1; white-space: pre;\">UK</text></g><g class=\"ytick\"><text text-anchor=\"end\" x=\"79\" y=\"4.199999999999999\" transform=\"translate(0,98.75)\" style=\"font-family: 'Open Sans', verdana, arial, sans-serif; font-size: 12px; fill: rgb(68, 68, 68); fill-opacity: 1; white-space: pre;\">Germany</text></g></g><g class=\"overaxes-above\"/></g></g><g class=\"polarlayer\"/><g class=\"ternarylayer\"/><g class=\"geolayer\"/><g class=\"funnelarealayer\"/><g class=\"pielayer\"/><g class=\"treemaplayer\"/><g class=\"sunburstlayer\"/><g class=\"glimages\"/><defs id=\"topdefs-a4aa23\"><g class=\"clips\"/></defs><g class=\"layer-above\"><g class=\"imagelayer\"/><g class=\"shapelayer\"/></g><g class=\"infolayer\"><g class=\"g-gtitle\"/><g class=\"g-xtitle\"><text class=\"xtitle\" x=\"350\" y=\"422\" text-anchor=\"middle\" style=\"font-family: 'Open Sans', verdana, arial, sans-serif; font-size: 14px; fill: rgb(68, 68, 68); opacity: 1; font-weight: normal; white-space: pre;\">sum of total_pages_visited</text></g><g class=\"g-ytitle\"><text class=\"ytitle\" transform=\"rotate(-90,42,215)\" x=\"42\" y=\"215\" text-anchor=\"middle\" style=\"font-family: 'Open Sans', verdana, arial, sans-serif; font-size: 14px; fill: rgb(68, 68, 68); opacity: 1; font-weight: normal; white-space: pre;\">country</text></g></g></svg>"
     },
     "metadata": {},
     "output_type": "display_data"
    }
   ],
   "source": [
    "px.histogram(data_sample, x = 'total_pages_visited', y = 'country')"
   ]
  },
  {
   "cell_type": "markdown",
   "metadata": {},
   "source": [
    " ## PREPROCESSING - PANDAS 🐼🐼"
   ]
  },
  {
   "cell_type": "markdown",
   "metadata": {},
   "source": [
    "\n",
    "Nothing wierd with columns.\n",
    "\n",
    "👌 TARGET (Y) --> 'converted' column."
   ]
  },
  {
   "cell_type": "code",
   "execution_count": 11,
   "metadata": {},
   "outputs": [],
   "source": [
    "features_list = ['country','source', 'total_pages_visited', 'new_user', 'age']\n",
    "target_variable = 'converted'"
   ]
  },
  {
   "cell_type": "code",
   "execution_count": 33,
   "metadata": {},
   "outputs": [],
   "source": [
    "X = data.loc[:, features_list]\n",
    "Y = data.loc[:, target_variable]"
   ]
  },
  {
   "cell_type": "markdown",
   "metadata": {},
   "source": [
    " ## PREPROCESSING - SCIKIT-LEARN 🔬🔬\n",
    "\n",
    "\n",
    "We need to identify which columns contain categorical variables and which columns contain numerical variables, as they will be treated differently.\n",
    "\n",
    "🖐 FEATURES (X)--> We have both, categorical variables and Numerical ones.\n",
    "\n",
    "**👉 Categorical variables : 'country' , 'source'.**\n",
    "\n",
    "**👉 Numerical variables : 'age', 'new_user', 'total_pages_visited', 'converted'**\n",
    "\n",
    "\n",
    "🖐 TARGET (Y)--> It´s a categorical variable, it will thus, be necessary to provide an encoding with the LabelEncoder class.\n",
    "\n",
    "**👉 Categorical variable : 'converted'.**"
   ]
  },
  {
   "cell_type": "markdown",
   "metadata": {},
   "source": [
    "### TRAIN TEST SPLIT 🔬🔬"
   ]
  },
  {
   "cell_type": "code",
   "execution_count": 34,
   "metadata": {
    "colab": {
     "base_uri": "https://localhost:8080/",
     "height": 67
    },
    "colab_type": "code",
    "id": "W8K5DQEvvQgl",
    "outputId": "d280ebc9-4d4b-4723-b9fe-32513f898abc"
   },
   "outputs": [
    {
     "name": "stdout",
     "output_type": "stream",
     "text": [
      "Dividing into train and test sets...\n"
     ]
    },
    {
     "data": {
      "text/html": [
       "<div>\n",
       "<style scoped>\n",
       "    .dataframe tbody tr th:only-of-type {\n",
       "        vertical-align: middle;\n",
       "    }\n",
       "\n",
       "    .dataframe tbody tr th {\n",
       "        vertical-align: top;\n",
       "    }\n",
       "\n",
       "    .dataframe thead th {\n",
       "        text-align: right;\n",
       "    }\n",
       "</style>\n",
       "<table border=\"1\" class=\"dataframe\">\n",
       "  <thead>\n",
       "    <tr style=\"text-align: right;\">\n",
       "      <th></th>\n",
       "      <th>country</th>\n",
       "      <th>source</th>\n",
       "      <th>total_pages_visited</th>\n",
       "      <th>new_user</th>\n",
       "      <th>age</th>\n",
       "    </tr>\n",
       "  </thead>\n",
       "  <tbody>\n",
       "    <tr>\n",
       "      <th>17050</th>\n",
       "      <td>US</td>\n",
       "      <td>Seo</td>\n",
       "      <td>4</td>\n",
       "      <td>1</td>\n",
       "      <td>29</td>\n",
       "    </tr>\n",
       "    <tr>\n",
       "      <th>260342</th>\n",
       "      <td>US</td>\n",
       "      <td>Direct</td>\n",
       "      <td>7</td>\n",
       "      <td>0</td>\n",
       "      <td>23</td>\n",
       "    </tr>\n",
       "    <tr>\n",
       "      <th>278164</th>\n",
       "      <td>UK</td>\n",
       "      <td>Seo</td>\n",
       "      <td>11</td>\n",
       "      <td>1</td>\n",
       "      <td>33</td>\n",
       "    </tr>\n",
       "    <tr>\n",
       "      <th>268440</th>\n",
       "      <td>China</td>\n",
       "      <td>Seo</td>\n",
       "      <td>5</td>\n",
       "      <td>1</td>\n",
       "      <td>25</td>\n",
       "    </tr>\n",
       "    <tr>\n",
       "      <th>157837</th>\n",
       "      <td>US</td>\n",
       "      <td>Seo</td>\n",
       "      <td>1</td>\n",
       "      <td>0</td>\n",
       "      <td>40</td>\n",
       "    </tr>\n",
       "  </tbody>\n",
       "</table>\n",
       "</div>"
      ],
      "text/plain": [
       "       country  source  total_pages_visited  new_user  age\n",
       "17050       US     Seo                    4         1   29\n",
       "260342      US  Direct                    7         0   23\n",
       "278164      UK     Seo                   11         1   33\n",
       "268440   China     Seo                    5         1   25\n",
       "157837      US     Seo                    1         0   40"
      ]
     },
     "metadata": {},
     "output_type": "display_data"
    },
    {
     "data": {
      "text/plain": [
       "17050     0\n",
       "260342    0\n",
       "278164    0\n",
       "268440    0\n",
       "157837    0\n",
       "Name: converted, dtype: int64"
      ]
     },
     "metadata": {},
     "output_type": "display_data"
    },
    {
     "data": {
      "text/html": [
       "<div>\n",
       "<style scoped>\n",
       "    .dataframe tbody tr th:only-of-type {\n",
       "        vertical-align: middle;\n",
       "    }\n",
       "\n",
       "    .dataframe tbody tr th {\n",
       "        vertical-align: top;\n",
       "    }\n",
       "\n",
       "    .dataframe thead th {\n",
       "        text-align: right;\n",
       "    }\n",
       "</style>\n",
       "<table border=\"1\" class=\"dataframe\">\n",
       "  <thead>\n",
       "    <tr style=\"text-align: right;\">\n",
       "      <th></th>\n",
       "      <th>country</th>\n",
       "      <th>source</th>\n",
       "      <th>total_pages_visited</th>\n",
       "      <th>new_user</th>\n",
       "      <th>age</th>\n",
       "    </tr>\n",
       "  </thead>\n",
       "  <tbody>\n",
       "    <tr>\n",
       "      <th>149371</th>\n",
       "      <td>US</td>\n",
       "      <td>Ads</td>\n",
       "      <td>7</td>\n",
       "      <td>1</td>\n",
       "      <td>20</td>\n",
       "    </tr>\n",
       "    <tr>\n",
       "      <th>221325</th>\n",
       "      <td>US</td>\n",
       "      <td>Seo</td>\n",
       "      <td>5</td>\n",
       "      <td>1</td>\n",
       "      <td>31</td>\n",
       "    </tr>\n",
       "    <tr>\n",
       "      <th>14016</th>\n",
       "      <td>US</td>\n",
       "      <td>Seo</td>\n",
       "      <td>4</td>\n",
       "      <td>0</td>\n",
       "      <td>28</td>\n",
       "    </tr>\n",
       "    <tr>\n",
       "      <th>257982</th>\n",
       "      <td>Germany</td>\n",
       "      <td>Ads</td>\n",
       "      <td>4</td>\n",
       "      <td>1</td>\n",
       "      <td>25</td>\n",
       "    </tr>\n",
       "    <tr>\n",
       "      <th>59983</th>\n",
       "      <td>US</td>\n",
       "      <td>Ads</td>\n",
       "      <td>7</td>\n",
       "      <td>0</td>\n",
       "      <td>44</td>\n",
       "    </tr>\n",
       "  </tbody>\n",
       "</table>\n",
       "</div>"
      ],
      "text/plain": [
       "        country source  total_pages_visited  new_user  age\n",
       "149371       US    Ads                    7         1   20\n",
       "221325       US    Seo                    5         1   31\n",
       "14016        US    Seo                    4         0   28\n",
       "257982  Germany    Ads                    4         1   25\n",
       "59983        US    Ads                    7         0   44"
      ]
     },
     "metadata": {},
     "output_type": "display_data"
    },
    {
     "data": {
      "text/plain": [
       "149371    0\n",
       "221325    0\n",
       "14016     0\n",
       "257982    0\n",
       "59983     0\n",
       "Name: converted, dtype: int64"
      ]
     },
     "metadata": {},
     "output_type": "display_data"
    },
    {
     "name": "stdout",
     "output_type": "stream",
     "text": [
      "\n"
     ]
    }
   ],
   "source": [
    "# Divide dataset Train set & Test set \n",
    "print(\"Dividing into train and test sets...\")\n",
    "X_train, X_test, Y_train, Y_test = train_test_split(X, Y, test_size=0.2, random_state=0)\n",
    "display(X_train.head(), Y_train.head())\n",
    "display(X_test.head(), Y_test.head())\n",
    "print()"
   ]
  },
  {
   "cell_type": "code",
   "execution_count": 37,
   "metadata": {},
   "outputs": [
    {
     "data": {
      "text/plain": [
       "Seo       111617\n",
       "Ads        63979\n",
       "Direct     52068\n",
       "Name: source, dtype: int64"
      ]
     },
     "execution_count": 37,
     "metadata": {},
     "output_type": "execute_result"
    }
   ],
   "source": [
    "X_train['country'].value_counts()\n",
    "X_train['source'].value_counts()"
   ]
  },
  {
   "cell_type": "markdown",
   "metadata": {},
   "source": [
    "### PIPELINE NUMERIC FEATURES"
   ]
  },
  {
   "cell_type": "code",
   "execution_count": 38,
   "metadata": {},
   "outputs": [],
   "source": [
    "# SimpleImputer es una instancia de clase.\n",
    "numeric_indices = [2,3,4] # Positions of numeric columns in X_train/X_test\n",
    "numeric_transformer = Pipeline(steps=[\n",
    "    ('imputer', SimpleImputer(strategy='median')), # missing values will be replaced by columns' median\n",
    "    ('scaler', StandardScaler())\n",
    "])"
   ]
  },
  {
   "cell_type": "markdown",
   "metadata": {},
   "source": [
    "### PIPELINE CATEGORICAL FEATURES"
   ]
  },
  {
   "cell_type": "code",
   "execution_count": 39,
   "metadata": {},
   "outputs": [],
   "source": [
    "# Create pipeline for categorical features\n",
    "categorical_indices = [0,1] # Positions of categorical columns in X_train/X_test\n",
    "categorical_transformer = Pipeline(\n",
    "    steps=[\n",
    "    ('imputer', SimpleImputer(strategy='most_frequent')), # missing values will be replaced by most frequent value\n",
    "    ('encoder', OneHotEncoder(drop='first')) # first column will be dropped to avoid creating correlations between features\n",
    "    ])"
   ]
  },
  {
   "cell_type": "markdown",
   "metadata": {},
   "source": [
    "### PIPELINE GLOBAL"
   ]
  },
  {
   "cell_type": "code",
   "execution_count": 40,
   "metadata": {},
   "outputs": [
    {
     "name": "stdout",
     "output_type": "stream",
     "text": [
      "Performing preprocessings on train set...\n",
      "       country  source  total_pages_visited  new_user  age\n",
      "17050       US     Seo                    4         1   29\n",
      "260342      US  Direct                    7         0   23\n",
      "278164      UK     Seo                   11         1   33\n",
      "268440   China     Seo                    5         1   25\n",
      "157837      US     Seo                    1         0   40\n",
      "...        ...     ...                  ...       ...  ...\n",
      "211543      US     Ads                    4         1   36\n",
      "86293       US     Seo                    5         1   37\n",
      "122579      UK  Direct                    6         1   31\n",
      "152315      UK     Seo                    5         1   25\n",
      "117952      US     Ads                    3         1   34\n",
      "\n",
      "[227664 rows x 5 columns]\n",
      "...Done.\n",
      "[[-0.26094223  0.67687527 -0.19030813 ...  1.          0.\n",
      "   1.        ]\n",
      " [ 0.63598611 -1.47737706 -0.9161838  ...  1.          1.\n",
      "   0.        ]\n",
      " [ 1.83189056  0.67687527  0.29360899 ...  0.          0.\n",
      "   1.        ]\n",
      " ...\n",
      " [ 0.33701     0.67687527  0.05165043 ...  0.          1.\n",
      "   0.        ]\n",
      " [ 0.03803388  0.67687527 -0.67422524 ...  0.          0.\n",
      "   1.        ]\n",
      " [-0.55991834  0.67687527  0.41458827 ...  1.          0.\n",
      "   0.        ]]\n",
      "\n",
      "Performing preprocessings on test set...\n",
      "        country  source  total_pages_visited  new_user  age\n",
      "149371       US     Ads                    7         1   20\n",
      "221325       US     Seo                    5         1   31\n",
      "14016        US     Seo                    4         0   28\n",
      "257982  Germany     Ads                    4         1   25\n",
      "59983        US     Ads                    7         0   44\n",
      "...         ...     ...                  ...       ...  ...\n",
      "22268     China     Seo                    4         0   34\n",
      "58724     China     Seo                    5         1   31\n",
      "80402        US     Ads                    4         1   26\n",
      "69384     China  Direct                    9         1   26\n",
      "189402    China     Seo                    2         0   21\n",
      "\n",
      "[56916 rows x 5 columns]\n",
      "...Done.\n",
      "[[ 0.63598611  0.67687527 -1.27912164 ...  1.          0.\n",
      "   0.        ]\n",
      " [ 0.03803388  0.67687527  0.05165043 ...  1.          0.\n",
      "   1.        ]\n",
      " [-0.26094223 -1.47737706 -0.3112874  ...  1.          0.\n",
      "   1.        ]\n",
      " ...\n",
      " [-0.26094223  0.67687527 -0.55324596 ...  1.          0.\n",
      "   0.        ]\n",
      " [ 1.23393834  0.67687527 -0.55324596 ...  0.          1.\n",
      "   0.        ]\n",
      " [-0.85889445 -1.47737706 -1.15814236 ...  0.          0.\n",
      "   1.        ]]\n",
      "\n"
     ]
    }
   ],
   "source": [
    "#Reminder: you need to call .fit_transform() on X_train and only .transform() on X_test, to ensure that the latter gets the same transformations as X_train.\n",
    "# Use ColumnTranformer to make a preprocessor object that describes all the treatments to be done\n",
    "preprocessor = ColumnTransformer(\n",
    "    transformers=[\n",
    "        ('num', numeric_transformer, numeric_indices),\n",
    "        ('cat', categorical_transformer, categorical_indices)\n",
    "    ])\n",
    "\n",
    "# Preprocessings on train set\n",
    "print(\"Performing preprocessings on train set...\")\n",
    "print(X_train)\n",
    "X_train = preprocessor.fit_transform(X_train)\n",
    "print('...Done.')\n",
    "print(X_train)\n",
    "print()\n",
    "\n",
    "# Preprocessings on test set\n",
    "print(\"Performing preprocessings on test set...\")\n",
    "print(X_test)\n",
    "X_test = preprocessor.transform(X_test) # Don't fit again !!\n",
    "print('...Done.')\n",
    "print(X_test)\n",
    "print()"
   ]
  },
  {
   "cell_type": "code",
   "execution_count": 17,
   "metadata": {},
   "outputs": [
    {
     "data": {
      "text/plain": [
       "array([-0.26094223,  0.67687527, -0.19030813,  0.        ,  0.        ,\n",
       "        1.        ,  0.        ,  1.        ])"
      ]
     },
     "execution_count": 17,
     "metadata": {},
     "output_type": "execute_result"
    }
   ],
   "source": [
    "X_train[0]"
   ]
  },
  {
   "cell_type": "markdown",
   "metadata": {},
   "source": [
    "### ENCODE TARGET VARIABLE Y"
   ]
  },
  {
   "cell_type": "code",
   "execution_count": 41,
   "metadata": {},
   "outputs": [
    {
     "name": "stdout",
     "output_type": "stream",
     "text": [
      "Encoding labels on train set...\n",
      "17050     0\n",
      "260342    0\n",
      "278164    0\n",
      "268440    0\n",
      "157837    0\n",
      "         ..\n",
      "211543    0\n",
      "86293     0\n",
      "122579    0\n",
      "152315    0\n",
      "117952    0\n",
      "Name: converted, Length: 227664, dtype: int64\n",
      "\n",
      "...Done.\n",
      "[0 0 0 ... 0 0 0]\n",
      "\n"
     ]
    }
   ],
   "source": [
    "labelencoder = LabelEncoder()\n",
    "\n",
    "print(\"Encoding labels on train set...\")\n",
    "print(Y_train)\n",
    "print()\n",
    "Y_train = labelencoder.fit_transform(Y_train)\n",
    "print(\"...Done.\")\n",
    "print(Y_train)\n",
    "print()"
   ]
  },
  {
   "cell_type": "code",
   "execution_count": 42,
   "metadata": {},
   "outputs": [
    {
     "name": "stdout",
     "output_type": "stream",
     "text": [
      "Encoding labels on test set...\n",
      "149371    0\n",
      "221325    0\n",
      "14016     0\n",
      "257982    0\n",
      "59983     0\n",
      "         ..\n",
      "22268     0\n",
      "58724     0\n",
      "80402     0\n",
      "69384     0\n",
      "189402    0\n",
      "Name: converted, Length: 56916, dtype: int64\n",
      "\n",
      "...Done.\n",
      "[0 0 0 ... 0 0 0]\n",
      "\n"
     ]
    }
   ],
   "source": [
    "print(\"Encoding labels on test set...\")\n",
    "print(Y_test)\n",
    "print()\n",
    "Y_test = labelencoder.transform(Y_test) # Don't fit again !! The test set is used for validating decisions\n",
    "# we made based on the training set, therefore we can only apply transformations that were parametered using the training set.\n",
    "# Otherwise this creates what is called a leak from the test set which will introduce a bias in all your results.\n",
    "print(\"...Done.\")\n",
    "print(Y_test)\n",
    "print()"
   ]
  },
  {
   "cell_type": "markdown",
   "metadata": {},
   "source": [
    "## MODEL TRAINING 🏃"
   ]
  },
  {
   "cell_type": "code",
   "execution_count": 20,
   "metadata": {},
   "outputs": [
    {
     "name": "stdout",
     "output_type": "stream",
     "text": [
      "Training model...\n",
      "...Done.\n"
     ]
    }
   ],
   "source": [
    "# Train model\n",
    "model = LogisticRegression(random_state=0)\n",
    "\n",
    "print(\"Training model...\")\n",
    "model.fit(X_train, Y_train) # Training is always done on train set !!\n",
    "print(\"...Done.\")"
   ]
  },
  {
   "cell_type": "markdown",
   "metadata": {},
   "source": [
    "## PREDICTIONS 🔮"
   ]
  },
  {
   "cell_type": "code",
   "execution_count": 21,
   "metadata": {},
   "outputs": [
    {
     "name": "stdout",
     "output_type": "stream",
     "text": [
      "Predictions on training set...\n",
      "...Done.\n",
      "[0 0 0 ... 0 0 0]\n",
      "\n"
     ]
    }
   ],
   "source": [
    "# Predictions on training set\n",
    "print(\"Predictions on training set...\")\n",
    "Y_train_pred = model.predict(X_train)\n",
    "print(\"...Done.\")\n",
    "print(Y_train_pred)\n",
    "print()"
   ]
  },
  {
   "cell_type": "code",
   "execution_count": 22,
   "metadata": {},
   "outputs": [
    {
     "name": "stdout",
     "output_type": "stream",
     "text": [
      "Predictions on test set...\n",
      "...Done.\n",
      "[0 0 0 ... 0 0 0]\n",
      "\n"
     ]
    }
   ],
   "source": [
    "# Predictions on test set\n",
    "print(\"Predictions on test set...\")\n",
    "Y_test_pred = model.predict(X_test)\n",
    "print(\"...Done.\")\n",
    "print(Y_test_pred)\n",
    "print()"
   ]
  },
  {
   "cell_type": "markdown",
   "metadata": {
    "colab_type": "text",
    "id": "zxJCTlz0_2it"
   },
   "source": [
    "### PERFORMANCE 💯"
   ]
  },
  {
   "cell_type": "code",
   "execution_count": 23,
   "metadata": {
    "colab": {
     "base_uri": "https://localhost:8080/",
     "height": 50
    },
    "colab_type": "code",
    "id": "6x7p1nyr_3UV",
    "outputId": "8e5b91ba-ca06-4486-d808-37a6aaaa8cf7"
   },
   "outputs": [
    {
     "name": "stdout",
     "output_type": "stream",
     "text": [
      "f1-score on train set :  0.7650256720024163\n",
      "f1-score on test set :  0.7581423401688782\n"
     ]
    }
   ],
   "source": [
    "# WARNING : Use the same score as the one that will be used by Kaggle !\n",
    "# Here, the f1-score will be used to assess the performances on the leaderboard\n",
    "print(\"f1-score on train set : \", f1_score(Y_train, Y_train_pred))\n",
    "print(\"f1-score on test set : \", f1_score(Y_test, Y_test_pred))"
   ]
  },
  {
   "cell_type": "code",
   "execution_count": 24,
   "metadata": {
    "colab": {
     "base_uri": "https://localhost:8080/",
     "height": 151
    },
    "colab_type": "code",
    "id": "KhDTCeBy__JK",
    "outputId": "72c82d66-d765-437e-e9ef-4ccc80e7183f"
   },
   "outputs": [
    {
     "name": "stdout",
     "output_type": "stream",
     "text": [
      "Confusion matrix on train set : \n",
      "[[219486    848]\n",
      " [  2264   5066]]\n",
      "\n",
      "Confusion matrix on test set : \n",
      "[[54857   209]\n",
      " [  593  1257]]\n",
      "\n"
     ]
    }
   ],
   "source": [
    "# You can also check more performance metrics to better understand what your model is doing\n",
    "print(\"Confusion matrix on train set : \")\n",
    "print(confusion_matrix(Y_train, Y_train_pred))\n",
    "print()\n",
    "print(\"Confusion matrix on test set : \")\n",
    "print(confusion_matrix(Y_test, Y_test_pred))\n",
    "print()"
   ]
  },
  {
   "cell_type": "markdown",
   "metadata": {},
   "source": [
    "**Our baseline model reaches a f1-score of almost 70%. Now, feel free to refine your model and try to beat this score ! 🚀🚀**"
   ]
  },
  {
   "cell_type": "markdown",
   "metadata": {
    "colab_type": "text",
    "id": "6tVVDRABv91O"
   },
   "source": [
    "# Train best classifier on all data and use it to make predictions on X_without_labels\n",
    "**Before making predictions on the file conversion_data_test.csv, let's train our model on ALL the data that was in conversion_data_train.csv. Sometimes, this allows to make tiny improvements in the score because we're using more examples to train the model.**"
   ]
  },
  {
   "cell_type": "code",
   "execution_count": 43,
   "metadata": {
    "colab": {
     "base_uri": "https://localhost:8080/",
     "height": 154
    },
    "colab_type": "code",
    "id": "M14RHUadzE2p",
    "outputId": "abcfcfec-9461-4579-adbd-f23270f984eb"
   },
   "outputs": [
    {
     "data": {
      "text/plain": [
       "LogisticRegression(random_state=0)"
      ]
     },
     "execution_count": 43,
     "metadata": {},
     "output_type": "execute_result"
    }
   ],
   "source": [
    "# Concatenate our train and test set to train your best classifier on all data with labels\n",
    "X = np.append(X_train,X_test,axis=0)\n",
    "Y = np.append(Y_train,Y_test)\n",
    "\n",
    "# classifier = LogisticRegression()\n",
    "model.fit(X,Y)"
   ]
  },
  {
   "cell_type": "code",
   "execution_count": 45,
   "metadata": {
    "colab": {
     "base_uri": "https://localhost:8080/",
     "height": 151
    },
    "colab_type": "code",
    "id": "Tr4CEaPzzbP-",
    "outputId": "f0d1c8ed-be4b-4974-d7b9-f23a49344d9d"
   },
   "outputs": [
    {
     "name": "stdout",
     "output_type": "stream",
     "text": [
      "Prediction set (without labels) : (31620, 5)\n",
      "  country  source  total_pages_visited  new_user  age\n",
      "0      UK     Seo                   16         0   28\n",
      "1      UK  Direct                    5         1   22\n",
      "2   China     Seo                    1         1   32\n",
      "3      US     Ads                    6         1   32\n",
      "4   China     Seo                    3         0   25\n"
     ]
    }
   ],
   "source": [
    "# Read data without labels\n",
    "data_without_labels = pd.read_csv('conversion_data_test.csv')\n",
    "print('Prediction set (without labels) :', data_without_labels.shape)\n",
    "\n",
    "# Warning : check consistency of features_list (must be the same than the features \n",
    "# used by your best classifier)\n",
    "# features_list = ['total_pages_visited']\n",
    "X_without_labels = data_without_labels.loc[:, features_list]\n",
    "\n",
    "# # Convert pandas DataFrames to numpy arrays before using scikit-learn\n",
    "# print(\"Convert pandas DataFrames to numpy arrays...\")\n",
    "# X_without_labels = X_without_labels.values\n",
    "# print(\"...Done\")\n",
    "\n",
    "print(X_without_labels[:5])"
   ]
  },
  {
   "cell_type": "code",
   "execution_count": 46,
   "metadata": {
    "colab": {
     "base_uri": "https://localhost:8080/",
     "height": 134
    },
    "colab_type": "code",
    "id": "LoUISfsT0HMR",
    "outputId": "e42dc389-5e77-4e13-ccbc-1fef4aa2c0ca"
   },
   "outputs": [
    {
     "name": "stdout",
     "output_type": "stream",
     "text": [
      "Encoding categorical features and standardizing numerical features...\n",
      "Performing preprocessings on test set...\n",
      "       country  source  total_pages_visited  new_user  age\n",
      "0           UK     Seo                   16         0   28\n",
      "1           UK  Direct                    5         1   22\n",
      "2        China     Seo                    1         1   32\n",
      "3           US     Ads                    6         1   32\n",
      "4        China     Seo                    3         0   25\n",
      "...        ...     ...                  ...       ...  ...\n",
      "31615  Germany     Seo                    3         1   25\n",
      "31616       US     Ads                    7         1   36\n",
      "31617       UK     Seo                    5         1   33\n",
      "31618       UK     Seo                   14         1   25\n",
      "31619       US     Seo                    2         1   22\n",
      "\n",
      "[31620 rows x 5 columns]\n",
      "...Done.\n",
      "[[ 3.32677112 -1.47737706 -0.3112874  ...  0.          0.\n",
      "   1.        ]\n",
      " [ 0.03803388  0.67687527 -1.03716308 ...  0.          1.\n",
      "   0.        ]\n",
      " [-1.15787057  0.67687527  0.17262971 ...  0.          0.\n",
      "   1.        ]\n",
      " ...\n",
      " [ 0.03803388  0.67687527  0.29360899 ...  0.          0.\n",
      "   1.        ]\n",
      " [ 2.7288189   0.67687527 -0.67422524 ...  0.          0.\n",
      "   1.        ]\n",
      " [-0.85889445  0.67687527 -1.03716308 ...  1.          0.\n",
      "   1.        ]]\n",
      "\n"
     ]
    }
   ],
   "source": [
    "# WARNING : PUT HERE THE SAME PREPROCESSING AS FOR YOUR TEST SET\n",
    "# CHECK YOU ARE USING X_without_labels\n",
    "print(\"Encoding categorical features and standardizing numerical features...\")\n",
    "\n",
    "\n",
    "\n",
    "# Preprocessings on test set\n",
    "print(\"Performing preprocessings on test set...\")\n",
    "print(X_without_labels)\n",
    "X_without_labels = preprocessor.transform(X_without_labels)\n",
    "print('...Done.')\n",
    "print(X_without_labels)\n",
    "print()"
   ]
  },
  {
   "cell_type": "code",
   "execution_count": 47,
   "metadata": {
    "colab": {},
    "colab_type": "code",
    "id": "7DuWSEHuwEQJ"
   },
   "outputs": [
    {
     "data": {
      "text/html": [
       "<div>\n",
       "<style scoped>\n",
       "    .dataframe tbody tr th:only-of-type {\n",
       "        vertical-align: middle;\n",
       "    }\n",
       "\n",
       "    .dataframe tbody tr th {\n",
       "        vertical-align: top;\n",
       "    }\n",
       "\n",
       "    .dataframe thead th {\n",
       "        text-align: right;\n",
       "    }\n",
       "</style>\n",
       "<table border=\"1\" class=\"dataframe\">\n",
       "  <thead>\n",
       "    <tr style=\"text-align: right;\">\n",
       "      <th></th>\n",
       "      <th>converted</th>\n",
       "    </tr>\n",
       "  </thead>\n",
       "  <tbody>\n",
       "    <tr>\n",
       "      <th>0</th>\n",
       "      <td>1</td>\n",
       "    </tr>\n",
       "    <tr>\n",
       "      <th>1</th>\n",
       "      <td>0</td>\n",
       "    </tr>\n",
       "    <tr>\n",
       "      <th>2</th>\n",
       "      <td>0</td>\n",
       "    </tr>\n",
       "    <tr>\n",
       "      <th>3</th>\n",
       "      <td>0</td>\n",
       "    </tr>\n",
       "    <tr>\n",
       "      <th>4</th>\n",
       "      <td>0</td>\n",
       "    </tr>\n",
       "  </tbody>\n",
       "</table>\n",
       "</div>"
      ],
      "text/plain": [
       "   converted\n",
       "0          1\n",
       "1          0\n",
       "2          0\n",
       "3          0\n",
       "4          0"
      ]
     },
     "execution_count": 47,
     "metadata": {},
     "output_type": "execute_result"
    }
   ],
   "source": [
    "# Make predictions and dump to file\n",
    "# WARNING : MAKE SURE THE FILE IS A CSV WITH ONE COLUMN NAMED 'converted' AND NO INDEX !\n",
    "# WARNING : FILE NAME MUST HAVE FORMAT 'conversion_data_test_predictions_[name].csv'\n",
    "# where [name] is the name of your team/model separated by a '-'\n",
    "# For example : [name] = AURELIE-model1\n",
    "data = {\n",
    "    'converted': model.predict(X_without_labels)\n",
    "}\n",
    "\n",
    "Y_predictions = pd.DataFrame(columns=['converted'],data=data)\n",
    "Y_predictions.to_csv('conversion_data_test_predictions_JAVI-model1.csv', index=False)\n",
    "Y_predictions.head()\n"
   ]
  },
  {
   "cell_type": "markdown",
   "metadata": {},
   "source": [
    "## Analyzing the coefficients and interpreting the result\n",
    "**In this template, we just trained a model with only one feature (total_pages_visited), so there's no analysis to be done about the feature importance 🤔**\n",
    "\n",
    "**Once you've included more features in your model, please take some time to analyze the model's parameters and try to find some lever for action to improve the newsletter's conversion rate 😎😎**"
   ]
  }
 ],
 "metadata": {
  "colab": {
   "collapsed_sections": [],
   "name": "Projets_template.ipynb",
   "provenance": []
  },
  "interpreter": {
   "hash": "93d4e3805b10e214ea3b1dff9e53d32cf6550b97e339216dbce17f82962eac07"
  },
  "kernelspec": {
   "display_name": "Python 3.7.6 64-bit ('base': conda)",
   "name": "python3"
  },
  "language_info": {
   "codemirror_mode": {
    "name": "ipython",
    "version": 3
   },
   "file_extension": ".py",
   "mimetype": "text/x-python",
   "name": "python",
   "nbconvert_exporter": "python",
   "pygments_lexer": "ipython3",
   "version": "3.7.6"
  }
 },
 "nbformat": 4,
 "nbformat_minor": 4
}
